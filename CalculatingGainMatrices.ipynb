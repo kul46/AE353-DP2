{
 "cells": [
  {
   "cell_type": "markdown",
   "id": "occasional-george",
   "metadata": {},
   "source": [
    "# Equations of motion for a \"zagi-like\" flying wing UAV"
   ]
  },
  {
   "cell_type": "markdown",
   "id": "d4cbc89f",
   "metadata": {},
   "source": [
    "Do imports."
   ]
  },
  {
   "cell_type": "code",
   "execution_count": 1,
   "id": "sitting-discount",
   "metadata": {},
   "outputs": [],
   "source": [
    "import numpy as np\n",
    "import sympy as sym\n",
    "from scipy import linalg\n",
    "import matplotlib.pyplot as plt\n",
    "from IPython.display import display, Markdown"
   ]
  },
  {
   "cell_type": "markdown",
   "id": "e2bc1e04",
   "metadata": {},
   "source": [
    "Define variables and parameters as symbols."
   ]
  },
  {
   "cell_type": "code",
   "execution_count": 2,
   "id": "eb2cd207",
   "metadata": {},
   "outputs": [],
   "source": [
    "#\n",
    "# VARIABLES\n",
    "#\n",
    "\n",
    "# Time\n",
    "t = sym.Symbol('t', real=True)\n",
    "\n",
    "# Components of position (meters)\n",
    "p_x, p_y, p_z = sym.symbols('p_x, p_y, p_z', real=True)\n",
    "\n",
    "# Yaw, pitch, and roll angles (radians)\n",
    "psi, theta, phi = sym.symbols('psi, theta, phi', real=True)\n",
    "\n",
    "# Components of linear velocity in the body frame (meters / second)\n",
    "v_x, v_y, v_z = sym.symbols('v_x, v_y, v_z', real=True)\n",
    "\n",
    "# Components of angular velocity in the body frame (radians / second)\n",
    "w_x, w_y, w_z = sym.symbols('w_x, w_y, w_z', real=True)\n",
    "\n",
    "# Elevon angles\n",
    "delta_r, delta_l = sym.symbols('delta_r, delta_l', real=True)\n",
    "\n",
    "#\n",
    "# PARAMETERS\n",
    "#\n",
    "\n",
    "# Aerodynamic parameters\n",
    "rho, S, c, b = sym.symbols('rho, S, c, b', real=True)\n",
    "C_L_0, C_L_alpha, C_L_q, C_L_delta_e = sym.symbols('C_L_0, C_L_alpha, C_L_q, C_L_delta_e', real=True)\n",
    "C_D_0, C_D_alpha, C_D_q, C_D_delta_e = sym.symbols('C_D_0, C_D_alpha, C_D_q, C_D_delta_e', real=True)\n",
    "C_m_0, C_m_alpha, C_m_q, C_m_delta_e = sym.symbols('C_m_0, C_m_alpha, C_m_q, C_m_delta_e', real=True)\n",
    "C_Y_0, C_Y_beta, C_Y_p, C_Y_r, C_Y_delta_a = sym.symbols('C_Y_0, C_Y_beta, C_Y_p, C_Y_r, C_Y_delta_a', real=True)\n",
    "C_l_0, C_l_beta, C_l_p, C_l_r, C_l_delta_a = sym.symbols('C_l_0, C_l_beta, C_l_p, C_l_r, C_l_delta_a', real=True)\n",
    "C_n_0, C_n_beta, C_n_p, C_n_r, C_n_delta_a = sym.symbols('C_n_0, C_n_beta, C_n_p, C_n_r, C_n_delta_a', real=True)\n",
    "e, alpha_0, C_D_p, M = sym.symbols('e, alpha_0, C_D_p, M', real=True)\n",
    "k, k_e = sym.symbols('k, k_e', real=True)\n",
    "\n",
    "# Mass and inertia parameters\n",
    "J_x, J_y, J_z, J_xz = sym.symbols('J_x, J_y, J_z, J_xz', real=True)\n",
    "m, g = sym.symbols('m, g', real=True)"
   ]
  },
  {
   "cell_type": "markdown",
   "id": "9a082a6b",
   "metadata": {},
   "source": [
    "Define numerical values of parameters."
   ]
  },
  {
   "cell_type": "code",
   "execution_count": 3,
   "id": "43e0698b",
   "metadata": {},
   "outputs": [],
   "source": [
    "params = {\n",
    "    g: 9.81,               # Gravity (m/s²)\n",
    "    m: 1.56,               # Mass of the UAV (kg)\n",
    "    J_x: 0.1147,           # Moment of inertia about x-axis (kg·m²) [UPDATED 02/28/2025]\n",
    "    J_y: 0.0576,           # Moment of inertia about y-axis (kg·m²) [UPDATED 02/28/2025]\n",
    "    J_z: 0.1712,           # Moment of inertia about z-axis (kg·m²) [UPDATED 02/28/2025]\n",
    "    J_xz: 0.0015,          # Product of inertia (kg·m²)             [UPDATED 02/28/2025]\n",
    "\n",
    "    S: 0.4696,             # Wing area (m²)\n",
    "    b: 1.4224,             # Wingspan (m)\n",
    "    c: 0.3302,             # Mean aerodynamic chord (m)\n",
    "\n",
    "    rho: 1.2682,           # Air density (kg/m³)\n",
    "\n",
    "    # Lift Coefficients\n",
    "    C_L_0: 0.2,            # Lift coefficient at zero AoA\n",
    "    C_L_alpha: 4.8,        # Lift curve slope (1/rad)\n",
    "    C_L_q: 2.2,            # Pitch rate effect on lift (1/rad)\n",
    "\n",
    "    # Drag Coefficients\n",
    "    C_D_0: 0.02,           # Zero-lift drag coefficient\n",
    "    C_D_alpha: 0.30,       # Drag change per AoA (1/rad)\n",
    "    C_D_q: 0.0,            # Pitch rate effect on drag (1/rad)\n",
    "    C_D_p: 0.03,           # Parasitic drag coefficient\n",
    "\n",
    "    # Pitching Moment Coefficients\n",
    "    C_m_0: -0.02,          # Pitching moment at zero AoA\n",
    "    C_m_alpha: -0.6,       # Pitching moment change per AoA (1/rad)\n",
    "    C_m_q: -1.8,           # Pitch rate effect on moment (1/rad)\n",
    "    C_m_delta_e: -0.35,    # Effect of elevator deflection on pitching moment (1/rad)\n",
    "\n",
    "    # Side Force Coefficients\n",
    "    C_Y_0: 0.0,            # Side force at zero sideslip\n",
    "    C_Y_beta: -0.08,       # Side force per sideslip angle (1/rad)\n",
    "    C_Y_p: 0.0,            # Side force due to roll rate\n",
    "    C_Y_r: 0.0,            # Side force due to yaw rate\n",
    "    C_Y_delta_a: 0.0,      # Side force due to aileron deflection\n",
    "\n",
    "    # Roll Moment Coefficients\n",
    "    C_l_0: 0.0,            # Roll moment at zero sideslip\n",
    "    C_l_beta: -0.10,       # Roll moment due to sideslip (1/rad)\n",
    "    C_l_p: -0.45,          # Roll damping derivative (1/rad)\n",
    "    C_l_r: 0.03,           # Roll moment due to yaw rate (1/rad)\n",
    "    C_l_delta_a: 0.18,     # Aileron effect on roll (1/rad)\n",
    "\n",
    "    # Yaw Moment Coefficients\n",
    "    C_n_0: 0.0,            # Yaw moment at zero sideslip\n",
    "    C_n_beta: 0.008,       # Yaw moment due to sideslip (1/rad)\n",
    "    C_n_p: -0.022,         # Yaw moment due to roll rate (1/rad)\n",
    "    C_n_r: -0.009,         # Yaw damping derivative (1/rad)\n",
    "    C_n_delta_a: -0.004,   # Aileron effect on yaw (1/rad)\n",
    "\n",
    "    # Control Derivatives\n",
    "    C_L_delta_e: 0.30,     # Effect of elevator deflection on lift (1/rad)\n",
    "    C_D_delta_e: 0.32,     # Effect of elevator deflection on drag (1/rad)\n",
    "\n",
    "    # Efficiency Factors\n",
    "    e: 0.85,               # Oswald efficiency factor\n",
    "    alpha_0: 0.45,         # Zero-lift angle of attack (rad)\n",
    "\n",
    "    # Additional Drag & Lift Coefficients\n",
    "    M: 50.0,               # Sigmoid blending function parameter\n",
    "    k_e: 0.01,             # Drag due to elevator deflection (empirical coefficient)\n",
    "    k: 0.048               # Induced drag factor\n",
    "}"
   ]
  },
  {
   "cell_type": "markdown",
   "id": "ac2be7c3",
   "metadata": {},
   "source": [
    "Compute aerodynamic forces and torques (assuming low angles of attack, so no stall)."
   ]
  },
  {
   "cell_type": "code",
   "execution_count": 4,
   "id": "2e55a7b4",
   "metadata": {},
   "outputs": [],
   "source": [
    "# Get airspeed, angle of attack, and angle of sideslip\n",
    "V_a = sym.sqrt(v_x**2 + v_y**2 + v_z**2)\n",
    "alpha = sym.atan(v_z / v_x)\n",
    "beta = sym.asin(v_y / V_a)\n",
    "\n",
    "# Convert from right and left elevon deflections to equivalent elevator and aileron deflections\n",
    "delta_e = (delta_r + delta_l) / 2\n",
    "delta_a = (-delta_r + delta_l) / 2\n",
    "\n",
    "# Longitudinal aerodynamics\n",
    "C_L = C_L_0 + C_L_alpha * alpha\n",
    "F_lift = rho * V_a**2 * S * (C_L + C_L_q * (c / (2 * V_a)) * w_y + C_L_delta_e * delta_e) / 2\n",
    "F_drag = rho * V_a**2 * S * ((C_D_0 + k * C_L**2) + C_D_q * (c / (2 * V_a)) * w_y + k_e * (C_L_delta_e * delta_e)**2) / 2\n",
    "f_x, f_z = sym.Matrix([[sym.cos(alpha), -sym.sin(alpha)], [sym.sin(alpha), sym.cos(alpha)]]) @ sym.Matrix([[-F_drag], [-F_lift]])\n",
    "tau_y = rho * V_a**2 * S * c * (C_m_0 + C_m_alpha * alpha + C_m_q * (c / (2 * V_a)) * w_y + C_m_delta_e * delta_e) / 2\n",
    "\n",
    "# Lateral aerodynamics\n",
    "f_y =   rho * V_a**2 * S *     (C_Y_0 + C_Y_beta * beta + C_Y_p * (b / (2 * V_a)) * w_x + C_Y_r * (b / (2 * V_a)) * w_z + C_Y_delta_a * delta_a) / 2\n",
    "tau_x = rho * V_a**2 * S * b * (C_l_0 + C_l_beta * beta + C_l_p * (b / (2 * V_a)) * w_x + C_l_r * (b / (2 * V_a)) * w_z + C_l_delta_a * delta_a) / 2\n",
    "tau_z = rho * V_a**2 * S * b * (C_n_0 + C_n_beta * beta + C_n_p * (b / (2 * V_a)) * w_x + C_n_r * (b / (2 * V_a)) * w_z + C_n_delta_a * delta_a) / 2"
   ]
  },
  {
   "cell_type": "markdown",
   "id": "a2dc1366",
   "metadata": {},
   "source": [
    "Define the linear velocity vector $v^B_{W, B}$ and the angular velocity vector $w^B_{W, B}$ in the coordinates of the body frame."
   ]
  },
  {
   "cell_type": "code",
   "execution_count": 5,
   "id": "90019c9a",
   "metadata": {},
   "outputs": [],
   "source": [
    "v_inB_ofWB = sym.Matrix([v_x, v_y, v_z])\n",
    "w_inB_ofWB = sym.Matrix([w_x, w_y, w_z])"
   ]
  },
  {
   "cell_type": "markdown",
   "id": "5228b6ce",
   "metadata": {},
   "source": [
    "Define the moment of inertia matrix in the coordinates of the body frame."
   ]
  },
  {
   "cell_type": "code",
   "execution_count": 6,
   "id": "2c51e28d",
   "metadata": {},
   "outputs": [],
   "source": [
    "J_inB = sym.Matrix([[  J_x,    0, -J_xz],\n",
    "                    [    0,  J_y,     0],\n",
    "                    [-J_xz,    0,   J_z]])"
   ]
  },
  {
   "cell_type": "markdown",
   "id": "c4b2b9b3",
   "metadata": {},
   "source": [
    "Define individual rotation matrices."
   ]
  },
  {
   "cell_type": "code",
   "execution_count": 7,
   "id": "abb422e6",
   "metadata": {},
   "outputs": [],
   "source": [
    "Rz = sym.Matrix([[sym.cos(psi), -sym.sin(psi), 0],\n",
    "                 [sym.sin(psi), sym.cos(psi), 0],\n",
    "                 [0, 0, 1]])\n",
    "\n",
    "Ry = sym.Matrix([[sym.cos(theta), 0, sym.sin(theta)],\n",
    "                 [0, 1, 0],\n",
    "                 [-sym.sin(theta), 0, sym.cos(theta)]])\n",
    "\n",
    "Rx = sym.Matrix([[1, 0, 0],\n",
    "                 [0, sym.cos(phi), -sym.sin(phi)],\n",
    "                 [0, sym.sin(phi), sym.cos(phi)]])"
   ]
  },
  {
   "cell_type": "markdown",
   "id": "bfe068f4",
   "metadata": {},
   "source": [
    "Apply sequential transformation to compute the rotation matrix that describes the orientation of the aircraft (i.e., of frame $B$ in the coordinates of frame $W$)."
   ]
  },
  {
   "cell_type": "code",
   "execution_count": 8,
   "id": "a708cce2",
   "metadata": {},
   "outputs": [],
   "source": [
    "R_inW_ofB = Rz @ Ry @ Rx"
   ]
  },
  {
   "cell_type": "markdown",
   "id": "2d450c82",
   "metadata": {},
   "source": [
    "Compute the matrix $N$ for which\n",
    "\n",
    "$$\\begin{bmatrix} \\dot{\\psi} \\\\ \\dot{\\theta} \\\\ \\dot{\\phi} \\end{bmatrix} = N w_{W, B}^{B}.$$"
   ]
  },
  {
   "cell_type": "code",
   "execution_count": 9,
   "id": "e1984caf",
   "metadata": {},
   "outputs": [],
   "source": [
    "# First, compute the inverse of N\n",
    "Ninv = sym.Matrix.hstack((Ry * Rx).T * sym.Matrix([0, 0, 1]),\n",
    "                              (Rx).T * sym.Matrix([0, 1, 0]),\n",
    "                                       sym.Matrix([1, 0, 0]))\n",
    "\n",
    "# Then, take the inverse of this result to compute N\n",
    "N = sym.simplify(Ninv.inv())"
   ]
  },
  {
   "cell_type": "markdown",
   "id": "291bac9d",
   "metadata": {},
   "source": [
    "Compute the total force and torque on the aicraft in the body frame (remember that $z$ is down!)."
   ]
  },
  {
   "cell_type": "code",
   "execution_count": 10,
   "id": "3603cc4f",
   "metadata": {},
   "outputs": [],
   "source": [
    "# Total force\n",
    "f_inB = R_inW_ofB.T * sym.Matrix([0, 0, m * g]) + sym.Matrix([f_x, f_y, f_z])\n",
    "\n",
    "# Total torque\n",
    "tau_inB = sym.Matrix([tau_x, tau_y, tau_z])"
   ]
  },
  {
   "cell_type": "markdown",
   "id": "7384c6b3",
   "metadata": {},
   "source": [
    "Define (fully) symbolic equations of motion. These are complicated enough that we won't bother to show them."
   ]
  },
  {
   "cell_type": "code",
   "execution_count": 11,
   "id": "14326c7d",
   "metadata": {},
   "outputs": [],
   "source": [
    "f_sym = sym.Matrix.vstack(\n",
    "    R_inW_ofB * v_inB_ofWB,\n",
    "    N * w_inB_ofWB,\n",
    "    (1 / m) * (f_inB - w_inB_ofWB.cross(m * v_inB_ofWB)),\n",
    "    J_inB.inv() * (tau_inB - w_inB_ofWB.cross(J_inB * w_inB_ofWB)),\n",
    ")"
   ]
  },
  {
   "cell_type": "markdown",
   "id": "3943b6f1",
   "metadata": {},
   "source": [
    "Substitute numerical values for each parameter. The only symbols that remain in these equations of motion are the (nonlinear) states and inputs. Again, these equations of motion are complicated, so we won't bother to show them. They have the following form:\n",
    "\n",
    "$$\n",
    "\\begin{bmatrix} \\dot{p}_x \\\\ \\dot{p}_y \\\\ \\dot{p}_z \\\\ \\dot{\\psi} \\\\ \\dot{\\theta} \\\\ \\dot{\\phi} \\\\ \\dot{v}_x \\\\ \\dot{v}_y \\\\ \\dot{v}_z \\\\ \\dot{w}_x \\\\ \\dot{w}_y \\\\ \\dot{w}_z \\end{bmatrix}\n",
    "=\n",
    "f\\left(\n",
    "\\begin{bmatrix} p_x \\\\ p_y \\\\ p_z \\\\ \\psi \\\\ \\theta \\\\ \\phi \\\\ v_x \\\\ v_y \\\\ v_z \\\\ w_x \\\\ w_y \\\\ w_z \\end{bmatrix},\n",
    "\\begin{bmatrix} \\delta_r \\\\ \\delta_l \\end{bmatrix}\n",
    "\\right).\n",
    "$$"
   ]
  },
  {
   "cell_type": "code",
   "execution_count": 12,
   "id": "fa92b4e7",
   "metadata": {},
   "outputs": [],
   "source": [
    "f = f_sym.subs(params)"
   ]
  },
  {
   "cell_type": "code",
   "execution_count": 13,
   "id": "b3ed4c8b",
   "metadata": {},
   "outputs": [
    {
     "name": "stdout",
     "output_type": "stream",
     "text": [
      "  message: Optimization terminated successfully.\n",
      "  success: True\n",
      "   status: 0\n",
      "      fun: 2.2596702921779166e-11\n",
      "        x: [ 0.000e+00 -1.056e-05  2.225e-01 -1.253e-07  5.345e+00\n",
      "             5.881e-05  1.835e+00  1.279e-06  8.030e-07 -6.925e-07\n",
      "            -6.239e-01 -6.239e-01]\n",
      "      nit: 30\n",
      "      jac: [ 0.000e+00 -2.789e-06  5.183e-06 -1.861e-06 -3.150e-06\n",
      "             1.828e-06  2.317e-06  4.392e-06  9.737e-06  8.554e-07\n",
      "             2.157e-05  5.523e-06]\n",
      " hess_inv: [[ 1.000e+00  0.000e+00 ...  0.000e+00  0.000e+00]\n",
      "            [ 0.000e+00  2.116e+00 ...  1.268e+00 -1.263e+00]\n",
      "            ...\n",
      "            [ 0.000e+00  1.268e+00 ...  9.536e-01 -6.465e-01]\n",
      "            [ 0.000e+00 -1.263e+00 ... -6.465e-01  9.429e-01]]\n",
      "     nfev: 468\n",
      "     njev: 36\n",
      "  p_y_e   =   0.000\n",
      "  psi_e   =  -0.000\n",
      "  theta_e =   0.223\n",
      "  phi_e   =  -0.000\n",
      "  v_x_e   =   5.345\n",
      "  v_y_e   =   0.000\n",
      "  v_z_e   =   1.835\n",
      "  w_x_e   =   0.000\n",
      "  w_y_e   =   0.000\n",
      "  w_z_e   =  -0.000\n",
      "  delta_r_e   =  -0.624\n",
      "  delta_l_e   =  -0.624\n",
      "A =\n",
      "[[ 0.00000000e+00  5.61841067e+00 -6.43945781e-06 -1.83455281e+00\n",
      "  -1.03003350e-05  1.00000000e+00 -2.20516340e-06  0.00000000e+00\n",
      "   0.00000000e+00  0.00000000e+00]\n",
      " [ 0.00000000e+00  0.00000000e+00 -1.60646206e-07  8.23288700e-07\n",
      "   0.00000000e+00  0.00000000e+00  0.00000000e+00  0.00000000e+00\n",
      "  -1.28449649e-07  1.02527502e+00]\n",
      " [ 0.00000000e+00  0.00000000e+00  0.00000000e+00  6.92535921e-07\n",
      "   0.00000000e+00  0.00000000e+00  0.00000000e+00  0.00000000e+00\n",
      "   1.00000000e+00  1.25283116e-07]\n",
      " [ 0.00000000e+00  0.00000000e+00 -7.27986056e-07  1.81676840e-07\n",
      "   0.00000000e+00  0.00000000e+00  0.00000000e+00  1.00000000e+00\n",
      "  -2.83452529e-08  2.26249585e-01]\n",
      " [ 0.00000000e+00  0.00000000e+00 -9.56816442e+00  0.00000000e+00\n",
      "  -9.78925300e-02  7.28037981e-06  2.64525340e+00  0.00000000e+00\n",
      "  -1.70736039e+00  5.88142966e-05]\n",
      " [ 0.00000000e+00  0.00000000e+00  2.71212040e-07  9.56816442e+00\n",
      "  -1.56945896e-07 -8.62993298e-02  9.87095877e-07  1.83455281e+00\n",
      "   0.00000000e+00 -5.34534932e+00]\n",
      " [ 0.00000000e+00  0.00000000e+00 -2.16479322e+00  1.19872945e-06\n",
      "  -1.64365331e+00 -3.65181087e-05 -5.64193683e+00 -5.88142966e-05\n",
      "   4.97474789e+00  0.00000000e+00]\n",
      " [ 0.00000000e+00  0.00000000e+00  0.00000000e+00  0.00000000e+00\n",
      "   2.18941890e-05 -2.08567006e+00  7.51420411e-06 -6.68252167e+00\n",
      "   7.08353436e-07  4.44139400e-01]\n",
      " [ 0.00000000e+00  0.00000000e+00  0.00000000e+00  0.00000000e+00\n",
      "   1.87897905e+00  2.07147560e-12 -5.47479376e+00 -7.45906279e-07\n",
      "  -2.86692412e+00  1.21815450e-06]\n",
      " [ 0.00000000e+00  0.00000000e+00  0.00000000e+00  0.00000000e+00\n",
      "   6.02671816e-07  9.35796315e-02  2.06840228e-07 -2.77313154e-01\n",
      "   4.38737303e-07 -8.56026719e-02]]\n",
      "\n",
      "B =\n",
      "[[  0.           0.        ]\n",
      " [  0.           0.        ]\n",
      " [  0.           0.        ]\n",
      " [  0.           0.        ]\n",
      " [  0.30008908   0.30008908]\n",
      " [  0.           0.        ]\n",
      " [ -0.86382638  -0.86382638]\n",
      " [-10.61363773  10.61363773]\n",
      " [ -9.54093333  -9.54093333]\n",
      " [  0.0650391   -0.0650391 ]]\n",
      "K1 = [[-0.7071192606584242, -9.16854750266092, -3.175615285521687, -4.784501358723377, 0.382338467806217, -1.3030352703852823, 0.24495421979959411, -0.764122809741952, -0.7301200123794945, -6.418336226427959], [0.7070943014944242, 9.168415383798775, -3.1756081039871202, 4.784604942624144, 0.38233377680144837, 1.3030277998541864, 0.2449497313998871, 0.7641240033315179, -0.7301195078912307, 6.418567043526933]]\n",
      "p = [-16.12455386+0.j          -9.79196016+3.92617617j\n",
      "  -9.79196016-3.92617617j  -2.34009343+2.29644955j\n",
      "  -2.34009343-2.29644955j  -0.15579812+0.5647949j\n",
      "  -0.15579812-0.5647949j   -1.12344387+0.j\n",
      "  -1.38057944+2.29554231j  -1.38057944-2.29554231j]\n",
      "K2 = [[-0.5000085261158966, -6.548479077798577, -2.2934994518382674, -3.5817980064040924, 0.23866688152220375, -0.9128996537901815, 0.2119212267370738, -0.5529293618637725, -0.5083731501824397, -4.6080519239320274], [0.4999914737387206, 6.548388949552562, -2.293492774278851, 3.581870830602675, 0.23866413233490633, 0.912894294071291, 0.21191820626623753, 0.5529299622087278, -0.5083725350115204, 4.608212703933603]]\n",
      "p = [-12.2152096 +0.j          -7.7571256 +5.05230655j\n",
      "  -7.7571256 -5.05230655j  -2.17972077+2.33739478j\n",
      "  -2.17972077-2.33739478j  -0.15510628+0.56395154j\n",
      "  -0.15510628-0.56395154j  -1.10733244+0.j\n",
      "  -1.28516161+2.26441072j  -1.28516161-2.26441072j]\n",
      "K3 = [[-0.31623278656924453, -4.254685700396374, -1.5177403261725624, -2.5248002822789317, 0.11423470458054315, -0.5694405070266523, 0.16390074028011015, -0.36941891809571875, -0.3095090027923759, -3.0493460532812433], [0.31622274538472045, 4.254633118183852, -1.5177345735332315, 2.524845900917162, 0.11423372645152693, 0.569436922782662, 0.1638990032654909, 0.3694190049438268, -0.30950829880273095, 3.0494449405503223]]\n",
      "p = [-9.17899917+0.j         -6.04823996+5.41853472j -6.04823996-5.41853472j\n",
      " -1.86820526+2.34196123j -1.86820526-2.34196123j -0.15639571+0.56058486j\n",
      " -0.15639571-0.56058486j -1.07132052+0.j         -1.10083758+2.19566584j\n",
      " -1.10083758-2.19566584j]\n"
     ]
    }
   ],
   "source": [
    "# Substitute the numerical parameters into the equations\n",
    "f_uav = sym.simplify(f_sym.subs(params))\n",
    "\n",
    "f_uav_reduced = f_uav[[1, 3, 4,5,6,7,8,9,10,11], :]\n",
    "\n",
    "f_uav_num_reduced = sym.lambdify(\n",
    "    [p_y, psi, theta, phi, v_x, v_y, v_z, w_x, w_y, w_z, delta_r, delta_l],\n",
    "    f_uav_reduced\n",
    ")\n",
    "\n",
    "from scipy.optimize import minimize\n",
    "\n",
    "f_num_for_minimize = lambda x: np.linalg.norm(f_uav_num_reduced(*x).flatten())**2\n",
    "\n",
    "# Initial guess\n",
    "x0 = [\n",
    "    0., # <-- guess at p_y_e\n",
    "    0., # <-- guess at psi_e\n",
    "    0., # <-- guess at theta_e\n",
    "    0., # <-- guess at phi_e\n",
    "    5., # <-- guess at v_x_e - ESTIMATED MANUALLY BY PERFORMING NUMEROUS ITERATIONS\n",
    "    0., # <-- guess at v_y_e\n",
    "    0.15, # <-- guess at v_z_e - ESTIMATED MANUALLY BY PERFORMING NUMEROUS ITERATIONS\n",
    "    0., # <-- guess at w_x_e\n",
    "    0., # <-- guess at w_y_e\n",
    "    0., # <-- guess at w_z_e\n",
    "    0., # <-- guess at delta_r_e\n",
    "    0., # <-- guess at delta_l_e\n",
    "\n",
    "]\n",
    "\n",
    "# Find minimum (\"tol\" is a tolerance that says how accurate you want the solution)\n",
    "sol = minimize(f_num_for_minimize, x0, tol=1e-4)\n",
    "\n",
    "# Show solution\n",
    "print(sol)\n",
    "\n",
    "# Extract equilibrium state variables from the solution vector\n",
    "(p_y_e, psi_e, theta_e, phi_e, v_x_e, v_y_e, v_z_e, w_x_e, w_y_e, w_z_e, delta_r_e, delta_l_e) = sol.x\n",
    "\n",
    "# Print the equilibrium state values with appropriate formatting:\n",
    "print(f'  p_y_e   = {p_y_e:7.3f}')\n",
    "print(f'  psi_e   = {psi_e:7.3f}')\n",
    "print(f'  theta_e = {theta_e:7.3f}')\n",
    "print(f'  phi_e   = {phi_e:7.3f}')\n",
    "print(f'  v_x_e   = {v_x_e:7.3f}')\n",
    "print(f'  v_y_e   = {v_y_e:7.3f}')\n",
    "print(f'  v_z_e   = {v_z_e:7.3f}')\n",
    "print(f'  w_x_e   = {w_x_e:7.3f}')\n",
    "print(f'  w_y_e   = {w_y_e:7.3f}')\n",
    "print(f'  w_z_e   = {w_z_e:7.3f}')\n",
    "print(f'  delta_r_e   = {delta_r_e:7.3f}')\n",
    "print(f'  delta_l_e   = {delta_l_e:7.3f}')\n",
    "\n",
    "# Find A and B in symbolic form\n",
    "A_sym = f_uav_reduced.jacobian([p_y, psi, theta, phi, v_x, v_y, v_z, w_x, w_y, w_z])\n",
    "B_sym = f_uav_reduced.jacobian([delta_r, delta_l])\n",
    "\n",
    "# Create lambda functions to allow numerical evaluation of A and B\n",
    "A_num = sym.lambdify([p_y, psi, theta, phi, v_x, v_y, v_z, w_x, w_y, w_z, delta_r, delta_l], A_sym)\n",
    "B_num = sym.lambdify([p_y, psi, theta, phi, v_x, v_y, v_z, w_x, w_y, w_z, delta_r, delta_l], B_sym)\n",
    "\n",
    "# Find A and B in numeric form (making sure the result is floating-point)\n",
    "A = A_num(p_y_e, psi_e, theta_e, phi_e, v_x_e, v_y_e, v_z_e, w_x_e, w_y_e, w_z_e, delta_r_e, delta_l_e).astype(float)\n",
    "B = B_num(p_y_e, psi_e, theta_e, phi_e, v_x_e, v_y_e, v_z_e, w_x_e, w_y_e, w_z_e, delta_r_e, delta_l_e).astype(float)\n",
    "\n",
    "# Show state-space model\n",
    "print(f'A =\\n{A}\\n\\nB =\\n{B}')\n",
    "\n",
    "def lqr(A, B, Q, R):\n",
    "    P = linalg.solve_continuous_are(A, B, Q, R)\n",
    "    K = linalg.inv(R) @  B.T @ P\n",
    "    return K, P\n",
    "\n",
    "# Region 1: Low error (|ψ|,|θ|,|φ| ≤ π/18 ≈ 10°)\n",
    "Q1 = np.diag([1., 0.5, 0.5, 0.5, 1., 1., 1., 1., 1., 1.])\n",
    "R1 = np.diag([1.0, 1.0])\n",
    "# Region 2: Moderate error (π/18 < error ≤ 0.40 rad ≈ 23°)\n",
    "Q2 = np.diag([1.0, 0.10, 0.10, 0.10, 1.0, 1.0, 1.0, 1.0, 1.0, 1.0])\n",
    "R2 = np.diag([2.0, 2.0])\n",
    "# Region 3: High error (0.40 < error ≤ π/6 ≈ 0.5236 rad)\n",
    "Q3 = np.diag([1.0, 0.01, 0.01, 0.01, 1.0, 1.0, 1.0, 1.0, 1.0, 1.0])\n",
    "R3 = np.diag([5.0, 5.0])\n",
    "\n",
    "# Compute gain matrices for each region (A and B are assumed to be computed previously)\n",
    "K1, P1 = lqr(A, B, Q1, R1)\n",
    "K2, P2 = lqr(A, B, Q2, R2)\n",
    "K3, P3 = lqr(A, B, Q3, R3)\n",
    "\n",
    "print(\"K1 =\", K1.tolist())\n",
    "print(f'p = {linalg.eigvals(A - B @ K1)}')\n",
    "print(\"K2 =\", K2.tolist())\n",
    "print(f'p = {linalg.eigvals(A - B @ K2)}')\n",
    "print(\"K3 =\", K3.tolist())\n",
    "print(f'p = {linalg.eigvals(A - B @ K3)}')"
   ]
  }
 ],
 "metadata": {
  "kernelspec": {
   "display_name": "ae353",
   "language": "python",
   "name": "python3"
  },
  "language_info": {
   "codemirror_mode": {
    "name": "ipython",
    "version": 3
   },
   "file_extension": ".py",
   "mimetype": "text/x-python",
   "name": "python",
   "nbconvert_exporter": "python",
   "pygments_lexer": "ipython3",
   "version": "3.13.1"
  }
 },
 "nbformat": 4,
 "nbformat_minor": 5
}
